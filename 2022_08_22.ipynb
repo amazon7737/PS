{
 "cells": [
  {
   "cell_type": "code",
   "execution_count": 1,
   "id": "b2c813f3",
   "metadata": {},
   "outputs": [],
   "source": [
    "#11722\n",
    "\n"
   ]
  },
  {
   "cell_type": "code",
   "execution_count": 2,
   "id": "8216686f",
   "metadata": {},
   "outputs": [
    {
     "name": "stdout",
     "output_type": "stream",
     "text": [
      "6\n"
     ]
    }
   ],
   "source": [
    "n = int(input())"
   ]
  },
  {
   "cell_type": "code",
   "execution_count": 3,
   "id": "7774d440",
   "metadata": {},
   "outputs": [
    {
     "name": "stdout",
     "output_type": "stream",
     "text": [
      "10 30 10 20 20 10\n"
     ]
    }
   ],
   "source": [
    "a = list(map(int, input().split()))"
   ]
  },
  {
   "cell_type": "code",
   "execution_count": 28,
   "id": "c4b47f92",
   "metadata": {},
   "outputs": [],
   "source": [
    "dp = [1] *n"
   ]
  },
  {
   "cell_type": "code",
   "execution_count": 29,
   "id": "0a02c2f5",
   "metadata": {},
   "outputs": [],
   "source": [
    "temp = 0"
   ]
  },
  {
   "cell_type": "code",
   "execution_count": 30,
   "id": "bf8500ec",
   "metadata": {},
   "outputs": [
    {
     "name": "stdout",
     "output_type": "stream",
     "text": [
      "3\n"
     ]
    }
   ],
   "source": [
    "for i in range(a.index(max(a))+1, n):\n",
    "    for j in range(i):\n",
    "        if a[a.index(max(a))] > a[j]:\n",
    "            if temp == a[j]:\n",
    "                pass\n",
    "            else:\n",
    "                dp[i] += 1\n",
    "                temp = a[j]\n",
    "        \n"
   ]
  },
  {
   "cell_type": "code",
   "execution_count": 31,
   "id": "10de7759",
   "metadata": {},
   "outputs": [
    {
     "data": {
      "text/plain": [
       "[1, 1, 2, 1, 2, 3]"
      ]
     },
     "execution_count": 31,
     "metadata": {},
     "output_type": "execute_result"
    }
   ],
   "source": [
    "dp"
   ]
  },
  {
   "cell_type": "code",
   "execution_count": 32,
   "id": "19de6412",
   "metadata": {},
   "outputs": [
    {
     "name": "stdout",
     "output_type": "stream",
     "text": [
      "3\n"
     ]
    }
   ],
   "source": [
    "print(max(dp))"
   ]
  },
  {
   "cell_type": "code",
   "execution_count": null,
   "id": "0fce9c51",
   "metadata": {},
   "outputs": [],
   "source": []
  }
 ],
 "metadata": {
  "kernelspec": {
   "display_name": "Python 3 (ipykernel)",
   "language": "python",
   "name": "python3"
  },
  "language_info": {
   "codemirror_mode": {
    "name": "ipython",
    "version": 3
   },
   "file_extension": ".py",
   "mimetype": "text/x-python",
   "name": "python",
   "nbconvert_exporter": "python",
   "pygments_lexer": "ipython3",
   "version": "3.8.13"
  }
 },
 "nbformat": 4,
 "nbformat_minor": 5
}
