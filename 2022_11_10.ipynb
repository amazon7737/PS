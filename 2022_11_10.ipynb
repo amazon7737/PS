{
 "cells": [
  {
   "cell_type": "code",
   "execution_count": 18,
   "id": "a801b94c",
   "metadata": {},
   "outputs": [],
   "source": [
    "#7576"
   ]
  },
  {
   "cell_type": "code",
   "execution_count": 19,
   "id": "1490b4a7",
   "metadata": {},
   "outputs": [],
   "source": [
    "import numpy as np"
   ]
  },
  {
   "cell_type": "code",
   "execution_count": 2,
   "id": "1fcec9ab",
   "metadata": {},
   "outputs": [
    {
     "name": "stdout",
     "output_type": "stream",
     "text": [
      "6 4\n"
     ]
    }
   ],
   "source": [
    "m, n = map(int, input().split())"
   ]
  },
  {
   "cell_type": "code",
   "execution_count": 3,
   "id": "df5ddcb7",
   "metadata": {},
   "outputs": [
    {
     "name": "stdout",
     "output_type": "stream",
     "text": [
      "0 0 0 0 0 0\n"
     ]
    }
   ],
   "source": [
    "a = list(map(int, input().split()))"
   ]
  },
  {
   "cell_type": "code",
   "execution_count": 6,
   "id": "5c64d12b",
   "metadata": {},
   "outputs": [
    {
     "data": {
      "text/plain": [
       "[0, 0, 0, 0, 0, 0]"
      ]
     },
     "execution_count": 6,
     "metadata": {},
     "output_type": "execute_result"
    }
   ],
   "source": [
    "a"
   ]
  },
  {
   "cell_type": "code",
   "execution_count": 7,
   "id": "381de0d2",
   "metadata": {},
   "outputs": [],
   "source": [
    "#1\n",
    "\n",
    "# 0 0 0 0 0 0\n",
    "# 0 0 0 0 0 0\n",
    "# 0 0 0 0 0 0\n",
    "# 0 0 0 0 0 1"
   ]
  },
  {
   "cell_type": "code",
   "execution_count": 8,
   "id": "22e552f7",
   "metadata": {},
   "outputs": [],
   "source": [
    "#2\n",
    "\n",
    "# 0 0 0 0 0 0\n",
    "# 0 0 0 0 0 0\n",
    "# 0 0 0 0 0 1\n",
    "# 0 0 0 0 1 1"
   ]
  },
  {
   "cell_type": "code",
   "execution_count": 9,
   "id": "18be16df",
   "metadata": {},
   "outputs": [],
   "source": [
    "#3\n",
    "\n",
    "# 0 0 0 0 0 0\n",
    "# 0 0 0 0 0 1\n",
    "# 0 0 0 0 1 1\n",
    "# 0 0 0 1 1 1"
   ]
  },
  {
   "cell_type": "code",
   "execution_count": 10,
   "id": "66491cba",
   "metadata": {},
   "outputs": [],
   "source": [
    "#4\n",
    "\n",
    "# 0 0 0 0 0 1\n",
    "# 0 0 0 0 1 1\n",
    "# 0 0 0 1 1 1\n",
    "# 0 0 1 1 1 1"
   ]
  },
  {
   "cell_type": "code",
   "execution_count": 11,
   "id": "aa25e40f",
   "metadata": {},
   "outputs": [],
   "source": []
  },
  {
   "cell_type": "code",
   "execution_count": 12,
   "id": "5bf91ae4",
   "metadata": {},
   "outputs": [],
   "source": [
    "#6\n",
    "\n",
    "# 0 0 0 0 1 1\n",
    "# 0 0 0 1 1 1\n",
    "# 0 0 1 1 1 1\n",
    "# 0 1 1 1 1 1"
   ]
  },
  {
   "cell_type": "code",
   "execution_count": 13,
   "id": "ab5154d7",
   "metadata": {},
   "outputs": [],
   "source": [
    "#7\n",
    "\n",
    "# 0 0 0 1 1 1\n",
    "# 0 0 1 1 1 1\n",
    "# 0 1 1 1 1 1\n",
    "# 1 1 1 1 1 1"
   ]
  },
  {
   "cell_type": "code",
   "execution_count": 14,
   "id": "537ae9c6",
   "metadata": {},
   "outputs": [],
   "source": [
    "#8\n",
    "\n",
    "# 0 0 1 1 1 1\n",
    "# 0 1 1 1 1 1\n",
    "# 1 1 1 1 1 1\n",
    "# 1 1 1 1 1 1"
   ]
  },
  {
   "cell_type": "code",
   "execution_count": 15,
   "id": "a19b3cc4",
   "metadata": {},
   "outputs": [],
   "source": [
    "#9\n",
    "\n",
    "# 0 1 1 1 1 1\n",
    "# 1 1 1 1 1 1\n",
    "# 1 1 1 1 1 1\n",
    "# 1 1 1 1 1 1"
   ]
  },
  {
   "cell_type": "code",
   "execution_count": 16,
   "id": "be501af5",
   "metadata": {},
   "outputs": [],
   "source": [
    "#9  -> 8번 (총익는)\n",
    "\n",
    "# 1 1 1 1 1 1\n",
    "# 1 1 1 1 1 1\n",
    "# 1 1 1 1 1 1\n",
    "# 1 1 1 1 1 1"
   ]
  },
  {
   "cell_type": "code",
   "execution_count": 49,
   "id": "d38faa69",
   "metadata": {},
   "outputs": [],
   "source": [
    "arr = np.array([[], []])"
   ]
  },
  {
   "cell_type": "code",
   "execution_count": 56,
   "id": "381743f3",
   "metadata": {},
   "outputs": [
    {
     "data": {
      "text/plain": [
       "array([[0., 0., 0.],\n",
       "       [0., 0., 0.]])"
      ]
     },
     "execution_count": 56,
     "metadata": {},
     "output_type": "execute_result"
    }
   ],
   "source": [
    "arr"
   ]
  },
  {
   "cell_type": "code",
   "execution_count": 54,
   "id": "0341ae86",
   "metadata": {},
   "outputs": [
    {
     "ename": "IndexError",
     "evalue": "too many indices for array: array is 0-dimensional, but 1 were indexed",
     "output_type": "error",
     "traceback": [
      "\u001b[0;31m---------------------------------------------------------------------------\u001b[0m",
      "\u001b[0;31mIndexError\u001b[0m                                Traceback (most recent call last)",
      "Cell \u001b[0;32mIn [54], line 1\u001b[0m\n\u001b[0;32m----> 1\u001b[0m arr[\u001b[38;5;241m0\u001b[39m]\n",
      "\u001b[0;31mIndexError\u001b[0m: too many indices for array: array is 0-dimensional, but 1 were indexed"
     ]
    }
   ],
   "source": [
    "arr[0]"
   ]
  },
  {
   "cell_type": "code",
   "execution_count": 66,
   "id": "17a7385e",
   "metadata": {},
   "outputs": [],
   "source": [
    "arr = np.zeros((n, m))"
   ]
  },
  {
   "cell_type": "code",
   "execution_count": 60,
   "id": "0da5aa99",
   "metadata": {
    "scrolled": true
   },
   "outputs": [],
   "source": [
    "arr[0][1] = 1"
   ]
  },
  {
   "cell_type": "code",
   "execution_count": 76,
   "id": "293824a3",
   "metadata": {},
   "outputs": [
    {
     "data": {
      "text/plain": [
       "array([[0., 0., 0., 0., 0., 0.],\n",
       "       [0., 0., 0., 0., 0., 0.],\n",
       "       [0., 0., 0., 0., 0., 0.],\n",
       "       [0., 0., 0., 0., 0., 1.]])"
      ]
     },
     "execution_count": 76,
     "metadata": {},
     "output_type": "execute_result"
    }
   ],
   "source": [
    "arr"
   ]
  },
  {
   "cell_type": "code",
   "execution_count": 75,
   "id": "5c2b5803",
   "metadata": {},
   "outputs": [],
   "source": [
    "arr[3][5] = 1"
   ]
  },
  {
   "cell_type": "code",
   "execution_count": 78,
   "id": "1560a082",
   "metadata": {},
   "outputs": [],
   "source": [
    "count = 0"
   ]
  },
  {
   "cell_type": "code",
   "execution_count": 77,
   "id": "56995b0e",
   "metadata": {},
   "outputs": [
    {
     "data": {
      "text/plain": [
       "array([[ True,  True,  True,  True,  True,  True],\n",
       "       [ True,  True,  True,  True,  True,  True],\n",
       "       [ True,  True,  True,  True,  True,  True],\n",
       "       [ True,  True,  True,  True,  True, False]])"
      ]
     },
     "execution_count": 77,
     "metadata": {},
     "output_type": "execute_result"
    }
   ],
   "source": [
    "while (arr == 0) == False:\n",
    "    for i in range():\n",
    "        for j in range():\n",
    "            #arr[i][j]\n",
    "            \n",
    "                "
   ]
  },
  {
   "cell_type": "code",
   "execution_count": 81,
   "id": "6b5fba98",
   "metadata": {},
   "outputs": [
    {
     "ename": "AttributeError",
     "evalue": "'numpy.ndarray' object has no attribute 'index'",
     "output_type": "error",
     "traceback": [
      "\u001b[0;31m---------------------------------------------------------------------------\u001b[0m",
      "\u001b[0;31mAttributeError\u001b[0m                            Traceback (most recent call last)",
      "Cell \u001b[0;32mIn [81], line 1\u001b[0m\n\u001b[0;32m----> 1\u001b[0m arr\u001b[38;5;241m.\u001b[39mindex(\u001b[38;5;241m1\u001b[39m)\n",
      "\u001b[0;31mAttributeError\u001b[0m: 'numpy.ndarray' object has no attribute 'index'"
     ]
    }
   ],
   "source": [
    "arr.index(1)"
   ]
  },
  {
   "cell_type": "code",
   "execution_count": 85,
   "id": "2aaa0915",
   "metadata": {},
   "outputs": [
    {
     "ename": "ValueError",
     "evalue": "The truth value of an array with more than one element is ambiguous. Use a.any() or a.all()",
     "output_type": "error",
     "traceback": [
      "\u001b[0;31m---------------------------------------------------------------------------\u001b[0m",
      "\u001b[0;31mValueError\u001b[0m                                Traceback (most recent call last)",
      "Cell \u001b[0;32mIn [85], line 1\u001b[0m\n\u001b[0;32m----> 1\u001b[0m \u001b[38;5;28;01mif\u001b[39;00m (arr \u001b[38;5;241m==\u001b[39m \u001b[38;5;241m1\u001b[39m) \u001b[38;5;241m==\u001b[39m \u001b[38;5;28;01mTrue\u001b[39;00m:\n\u001b[1;32m      2\u001b[0m     \u001b[38;5;28mprint\u001b[39m(arr\u001b[38;5;241m.\u001b[39mindex(\u001b[38;5;241m1\u001b[39m))\n",
      "\u001b[0;31mValueError\u001b[0m: The truth value of an array with more than one element is ambiguous. Use a.any() or a.all()"
     ]
    }
   ],
   "source": [
    "if (arr == 1) == True:\n",
    "    print(arr.index(1))"
   ]
  },
  {
   "cell_type": "code",
   "execution_count": 92,
   "id": "5494f5a5",
   "metadata": {},
   "outputs": [
    {
     "name": "stdout",
     "output_type": "stream",
     "text": [
      "[[0. 0. 0. 0. 0. 0.]\n",
      " [0. 0. 0. 0. 0. 0.]\n",
      " [0. 0. 0. 0. 0. 0.]\n",
      " [0. 0. 0. 0. 0. 1.]]\n"
     ]
    }
   ],
   "source": [
    "if 1 in arr:\n",
    "    print(arr)"
   ]
  },
  {
   "cell_type": "code",
   "execution_count": 100,
   "id": "bcfc0404",
   "metadata": {},
   "outputs": [],
   "source": [
    "arr2 = np.where(arr == 1)"
   ]
  },
  {
   "cell_type": "code",
   "execution_count": 101,
   "id": "9eea6799",
   "metadata": {},
   "outputs": [
    {
     "data": {
      "text/plain": [
       "(array([3]), array([5]))"
      ]
     },
     "execution_count": 101,
     "metadata": {},
     "output_type": "execute_result"
    }
   ],
   "source": [
    "arr2"
   ]
  },
  {
   "cell_type": "code",
   "execution_count": 105,
   "id": "45948a95",
   "metadata": {},
   "outputs": [
    {
     "data": {
      "text/plain": [
       "5"
      ]
     },
     "execution_count": 105,
     "metadata": {},
     "output_type": "execute_result"
    }
   ],
   "source": [
    "arr2[1][0]"
   ]
  },
  {
   "cell_type": "code",
   "execution_count": null,
   "id": "1401333a",
   "metadata": {},
   "outputs": [],
   "source": []
  }
 ],
 "metadata": {
  "kernelspec": {
   "display_name": "Python 3 (ipykernel)",
   "language": "python",
   "name": "python3"
  },
  "language_info": {
   "codemirror_mode": {
    "name": "ipython",
    "version": 3
   },
   "file_extension": ".py",
   "mimetype": "text/x-python",
   "name": "python",
   "nbconvert_exporter": "python",
   "pygments_lexer": "ipython3",
   "version": "3.9.7"
  }
 },
 "nbformat": 4,
 "nbformat_minor": 5
}
