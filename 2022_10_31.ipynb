{
 "cells": [
  {
   "cell_type": "code",
   "execution_count": 1,
   "id": "a2ee3f9f",
   "metadata": {},
   "outputs": [],
   "source": [
    "#9613"
   ]
  },
  {
   "cell_type": "code",
   "execution_count": 14,
   "id": "ef578b06",
   "metadata": {},
   "outputs": [
    {
     "name": "stdout",
     "output_type": "stream",
     "text": [
      "3\n"
     ]
    }
   ],
   "source": [
    "t = int(input())\n"
   ]
  },
  {
   "cell_type": "code",
   "execution_count": 27,
   "id": "190eae0e",
   "metadata": {},
   "outputs": [
    {
     "name": "stdout",
     "output_type": "stream",
     "text": [
      "4 10 20 30 40\n"
     ]
    }
   ],
   "source": [
    "a = list(map(int, input().split()))"
   ]
  },
  {
   "cell_type": "code",
   "execution_count": 28,
   "id": "1d4fb623",
   "metadata": {},
   "outputs": [],
   "source": [
    "n = a.pop(0)"
   ]
  },
  {
   "cell_type": "code",
   "execution_count": 29,
   "id": "92022bfa",
   "metadata": {},
   "outputs": [
    {
     "data": {
      "text/plain": [
       "[10, 20, 30, 40]"
      ]
     },
     "execution_count": 29,
     "metadata": {},
     "output_type": "execute_result"
    }
   ],
   "source": [
    "a"
   ]
  },
  {
   "cell_type": "code",
   "execution_count": 21,
   "id": "d1141ba4",
   "metadata": {},
   "outputs": [
    {
     "data": {
      "text/plain": [
       "4"
      ]
     },
     "execution_count": 21,
     "metadata": {},
     "output_type": "execute_result"
    }
   ],
   "source": [
    "n"
   ]
  },
  {
   "cell_type": "code",
   "execution_count": 32,
   "id": "59f34840",
   "metadata": {},
   "outputs": [
    {
     "name": "stdout",
     "output_type": "stream",
     "text": [
      "0\n"
     ]
    },
    {
     "ename": "TypeError",
     "evalue": "'int' object is not iterable",
     "output_type": "error",
     "traceback": [
      "\u001b[0;31m---------------------------------------------------------------------------\u001b[0m",
      "\u001b[0;31mTypeError\u001b[0m                                 Traceback (most recent call last)",
      "Cell \u001b[0;32mIn [32], line 5\u001b[0m\n\u001b[1;32m      3\u001b[0m     \u001b[38;5;28;01mbreak\u001b[39;00m\n\u001b[1;32m      4\u001b[0m \u001b[38;5;28mprint\u001b[39m(i)\n\u001b[0;32m----> 5\u001b[0m \u001b[38;5;28mprint\u001b[39m(\u001b[38;5;28mmax\u001b[39m(a[i] \u001b[38;5;241m+\u001b[39m a[i\u001b[38;5;241m+\u001b[39m\u001b[38;5;241m1\u001b[39m]))\n",
      "\u001b[0;31mTypeError\u001b[0m: 'int' object is not iterable"
     ]
    }
   ],
   "source": [
    "# for i in range(0, len(a)):\n",
    "#     if i+1 == len(a):\n",
    "#         break\n",
    "#     print(i)\n",
    "#     print(max(a[i] + a[i+1]))\n"
   ]
  },
  {
   "cell_type": "code",
   "execution_count": 30,
   "id": "4e841b79",
   "metadata": {},
   "outputs": [
    {
     "data": {
      "text/plain": [
       "10"
      ]
     },
     "execution_count": 30,
     "metadata": {},
     "output_type": "execute_result"
    }
   ],
   "source": [
    "a[0]"
   ]
  },
  {
   "cell_type": "code",
   "execution_count": 37,
   "id": "e644d87e",
   "metadata": {},
   "outputs": [
    {
     "name": "stdout",
     "output_type": "stream",
     "text": [
      "4 10 20 30 40\n",
      "70\n",
      "3 7 5 12\n",
      "3\n",
      "3 125 15 25\n",
      "35\n"
     ]
    }
   ],
   "source": [
    "from math import gcd\n",
    "from itertools import combinations\n",
    "\n",
    "for _ in range(t):\n",
    "    nums = list(map(int, input().split()))\n",
    "    \n",
    "    res = 0\n",
    "    combs = combinations(nums[1:], 2)\n",
    "    for a, b in combs:\n",
    "        res += gcd(a, b)\n",
    "    print(res)\n",
    "    \n",
    "    "
   ]
  },
  {
   "cell_type": "code",
   "execution_count": 38,
   "id": "2d395af7",
   "metadata": {},
   "outputs": [
    {
     "ename": "ValueError",
     "evalue": "invalid literal for int() with base 10: ''",
     "output_type": "error",
     "traceback": [
      "\u001b[0;31m---------------------------------------------------------------------------\u001b[0m",
      "\u001b[0;31mValueError\u001b[0m                                Traceback (most recent call last)",
      "Cell \u001b[0;32mIn [38], line 21\u001b[0m\n\u001b[1;32m     17\u001b[0m         \u001b[38;5;28mprint\u001b[39m(res)\n\u001b[1;32m     20\u001b[0m \u001b[38;5;28;01mif\u001b[39;00m \u001b[38;5;18m__name__\u001b[39m \u001b[38;5;241m==\u001b[39m \u001b[38;5;124m\"\u001b[39m\u001b[38;5;124m__main__\u001b[39m\u001b[38;5;124m\"\u001b[39m:\n\u001b[0;32m---> 21\u001b[0m     main()\n",
      "Cell \u001b[0;32mIn [38], line 8\u001b[0m, in \u001b[0;36mmain\u001b[0;34m()\u001b[0m\n\u001b[1;32m      7\u001b[0m \u001b[38;5;28;01mdef\u001b[39;00m \u001b[38;5;21mmain\u001b[39m():\n\u001b[0;32m----> 8\u001b[0m     t \u001b[38;5;241m=\u001b[39m \u001b[38;5;28;43mint\u001b[39;49m\u001b[43m(\u001b[49m\u001b[43mstdin\u001b[49m\u001b[38;5;241;43m.\u001b[39;49m\u001b[43mreadline\u001b[49m\u001b[43m(\u001b[49m\u001b[43m)\u001b[49m\u001b[43m)\u001b[49m\n\u001b[1;32m      9\u001b[0m     \u001b[38;5;28;01mfor\u001b[39;00m _ \u001b[38;5;129;01min\u001b[39;00m \u001b[38;5;28mrange\u001b[39m(t):\n\u001b[1;32m     10\u001b[0m         nums \u001b[38;5;241m=\u001b[39m \u001b[38;5;28mlist\u001b[39m(\u001b[38;5;28mmap\u001b[39m(\u001b[38;5;28mint\u001b[39m, stdin\u001b[38;5;241m.\u001b[39mreadline()\u001b[38;5;241m.\u001b[39msplit()))\n",
      "\u001b[0;31mValueError\u001b[0m: invalid literal for int() with base 10: ''"
     ]
    }
   ],
   "source": [
    "#답\n",
    "from sys import stdin\n",
    "from itertools import combinations\n",
    "from math import gcd\n",
    "\n",
    "\n",
    "def main():\n",
    "    t = int(stdin.readline())\n",
    "    for _ in range(t):\n",
    "        nums = list(map(int, stdin.readline().split()))\n",
    "\n",
    "        res = 0\n",
    "        combs = combinations(nums[1:], 2)\n",
    "        for a, b in combs:\n",
    "            res += gcd(a, b)\n",
    "\n",
    "        print(res)\n",
    "\n",
    "\n",
    "if __name__ == \"__main__\":\n",
    "    main()"
   ]
  },
  {
   "cell_type": "code",
   "execution_count": 39,
   "id": "0103951f",
   "metadata": {},
   "outputs": [],
   "source": [
    "#11005"
   ]
  },
  {
   "cell_type": "code",
   "execution_count": 40,
   "id": "a367acbe",
   "metadata": {},
   "outputs": [
    {
     "name": "stdout",
     "output_type": "stream",
     "text": [
      "60466175 36\n"
     ]
    }
   ],
   "source": [
    "n,b = map(int,input().split())"
   ]
  },
  {
   "cell_type": "code",
   "execution_count": 41,
   "id": "0c2fc5a1",
   "metadata": {},
   "outputs": [
    {
     "data": {
      "text/plain": [
       "60466175"
      ]
     },
     "execution_count": 41,
     "metadata": {},
     "output_type": "execute_result"
    }
   ],
   "source": [
    "n"
   ]
  },
  {
   "cell_type": "code",
   "execution_count": 42,
   "id": "92d9a528",
   "metadata": {},
   "outputs": [
    {
     "data": {
      "text/plain": [
       "36"
      ]
     },
     "execution_count": 42,
     "metadata": {},
     "output_type": "execute_result"
    }
   ],
   "source": [
    "b"
   ]
  },
  {
   "cell_type": "code",
   "execution_count": 43,
   "id": "a793e7ff",
   "metadata": {},
   "outputs": [
    {
     "name": "stdout",
     "output_type": "stream",
     "text": [
      "60466175 36\n"
     ]
    }
   ],
   "source": [
    "tmp = \"0123456789ABCDEFGHIJKLMNOPQRSTUVWXYZ\"\n",
    "\n",
    "n, b = map(int, input().split())\n",
    "answer = ''\n",
    "\n"
   ]
  },
  {
   "cell_type": "code",
   "execution_count": 44,
   "id": "691e4d4e",
   "metadata": {},
   "outputs": [],
   "source": [
    "while n != 0:\n",
    "    answer += str(tmp[n % b])\n",
    "    n = n // b\n",
    "    \n",
    "    "
   ]
  },
  {
   "cell_type": "code",
   "execution_count": 45,
   "id": "06201304",
   "metadata": {},
   "outputs": [
    {
     "name": "stdout",
     "output_type": "stream",
     "text": [
      "ZZZZZ\n"
     ]
    }
   ],
   "source": [
    "print(answer[::-1])"
   ]
  },
  {
   "cell_type": "code",
   "execution_count": 46,
   "id": "ede0888d",
   "metadata": {},
   "outputs": [
    {
     "ename": "ValueError",
     "evalue": "not enough values to unpack (expected 2, got 0)",
     "output_type": "error",
     "traceback": [
      "\u001b[0;31m---------------------------------------------------------------------------\u001b[0m",
      "\u001b[0;31mValueError\u001b[0m                                Traceback (most recent call last)",
      "Cell \u001b[0;32mIn [46], line 5\u001b[0m\n\u001b[1;32m      1\u001b[0m \u001b[38;5;28;01mfrom\u001b[39;00m \u001b[38;5;21;01msys\u001b[39;00m \u001b[38;5;28;01mimport\u001b[39;00m stdin\n\u001b[1;32m      3\u001b[0m tmp \u001b[38;5;241m=\u001b[39m \u001b[38;5;124m\"\u001b[39m\u001b[38;5;124m0123456789ABCDEFGHIJKLMNOPQRSTUVWXYZ\u001b[39m\u001b[38;5;124m\"\u001b[39m\n\u001b[0;32m----> 5\u001b[0m n, b \u001b[38;5;241m=\u001b[39m \u001b[38;5;28mmap\u001b[39m(\u001b[38;5;28mint\u001b[39m, stdin\u001b[38;5;241m.\u001b[39mreadline()\u001b[38;5;241m.\u001b[39msplit())\n\u001b[1;32m      6\u001b[0m answer \u001b[38;5;241m=\u001b[39m \u001b[38;5;124m'\u001b[39m\u001b[38;5;124m'\u001b[39m\n\u001b[1;32m      8\u001b[0m \u001b[38;5;28;01mwhile\u001b[39;00m n \u001b[38;5;241m!=\u001b[39m \u001b[38;5;241m0\u001b[39m:\n",
      "\u001b[0;31mValueError\u001b[0m: not enough values to unpack (expected 2, got 0)"
     ]
    }
   ],
   "source": [
    "from sys import stdin\n",
    "\n",
    "tmp = \"0123456789ABCDEFGHIJKLMNOPQRSTUVWXYZ\"\n",
    "\n",
    "n, b = map(int, stdin.readline().split())\n",
    "answer = ''\n",
    "\n",
    "while n != 0:\n",
    "    answer += str(tmp[n % b])\n",
    "    n = n//b\n",
    "    \n",
    "print(answer[::-1])"
   ]
  },
  {
   "cell_type": "code",
   "execution_count": 47,
   "id": "8921225a",
   "metadata": {},
   "outputs": [
    {
     "ename": "ValueError",
     "evalue": "not enough values to unpack (expected 2, got 0)",
     "output_type": "error",
     "traceback": [
      "\u001b[0;31m---------------------------------------------------------------------------\u001b[0m",
      "\u001b[0;31mValueError\u001b[0m                                Traceback (most recent call last)",
      "Cell \u001b[0;32mIn [47], line 5\u001b[0m\n\u001b[1;32m      1\u001b[0m \u001b[38;5;28;01mfrom\u001b[39;00m \u001b[38;5;21;01msys\u001b[39;00m \u001b[38;5;28;01mimport\u001b[39;00m stdin\n\u001b[1;32m      3\u001b[0m tmp \u001b[38;5;241m=\u001b[39m \u001b[38;5;124m\"\u001b[39m\u001b[38;5;124m0123456789ABCDEFGHIJKLMNOPQRSTUVWXYZ\u001b[39m\u001b[38;5;124m\"\u001b[39m\n\u001b[0;32m----> 5\u001b[0m n, b \u001b[38;5;241m=\u001b[39m \u001b[38;5;28mmap\u001b[39m(\u001b[38;5;28mint\u001b[39m, stdin\u001b[38;5;241m.\u001b[39mreadline()\u001b[38;5;241m.\u001b[39msplit())\n\u001b[1;32m      6\u001b[0m answer \u001b[38;5;241m=\u001b[39m \u001b[38;5;124m'\u001b[39m\u001b[38;5;124m'\u001b[39m\n\u001b[1;32m      8\u001b[0m \u001b[38;5;28;01mwhile\u001b[39;00m n \u001b[38;5;241m!=\u001b[39m \u001b[38;5;241m0\u001b[39m:\n",
      "\u001b[0;31mValueError\u001b[0m: not enough values to unpack (expected 2, got 0)"
     ]
    }
   ],
   "source": [
    "from sys import stdin\n",
    "\n",
    "tmp = \"0123456789ABCDEFGHIJKLMNOPQRSTUVWXYZ\"\n",
    "\n",
    "n, b = map(int, stdin.readline().split())\n",
    "answer = ''\n",
    "\n",
    "while n != 0:\n",
    "    answer += str(tmp[n % b])\n",
    "    n = n//b\n",
    "    \n",
    "print(answer[::-1])"
   ]
  },
  {
   "cell_type": "code",
   "execution_count": 48,
   "id": "56e85137",
   "metadata": {},
   "outputs": [
    {
     "ename": "ValueError",
     "evalue": "not enough values to unpack (expected 2, got 0)",
     "output_type": "error",
     "traceback": [
      "\u001b[0;31m---------------------------------------------------------------------------\u001b[0m",
      "\u001b[0;31mValueError\u001b[0m                                Traceback (most recent call last)",
      "Cell \u001b[0;32mIn [48], line 5\u001b[0m\n\u001b[1;32m      1\u001b[0m \u001b[38;5;28;01mfrom\u001b[39;00m \u001b[38;5;21;01msys\u001b[39;00m \u001b[38;5;28;01mimport\u001b[39;00m stdin\n\u001b[1;32m      3\u001b[0m tmp \u001b[38;5;241m=\u001b[39m \u001b[38;5;124m\"\u001b[39m\u001b[38;5;124m0123456789ABCDEFGHIJKLMNOPQRSTUVWXYZ\u001b[39m\u001b[38;5;124m\"\u001b[39m\n\u001b[0;32m----> 5\u001b[0m n, b \u001b[38;5;241m=\u001b[39m \u001b[38;5;28mmap\u001b[39m(\u001b[38;5;28mint\u001b[39m, stdin\u001b[38;5;241m.\u001b[39mreadline()\u001b[38;5;241m.\u001b[39msplit())\n\u001b[1;32m      6\u001b[0m answer \u001b[38;5;241m=\u001b[39m \u001b[38;5;124m'\u001b[39m\u001b[38;5;124m'\u001b[39m\n\u001b[1;32m      7\u001b[0m \u001b[38;5;28;01mwhile\u001b[39;00m n \u001b[38;5;241m!=\u001b[39m\u001b[38;5;241m0\u001b[39m:\n",
      "\u001b[0;31mValueError\u001b[0m: not enough values to unpack (expected 2, got 0)"
     ]
    }
   ],
   "source": [
    "from sys import stdin\n",
    "\n",
    "tmp = \"0123456789ABCDEFGHIJKLMNOPQRSTUVWXYZ\"\n",
    "\n",
    "n, b = map(int, stdin.readline().split())\n",
    "answer = ''\n",
    "while n !=0:\n",
    "    answer += str(tmp[n%b])\n",
    "    n = n//b\n",
    "\n",
    "print(answer[::-1])\n",
    "\n"
   ]
  },
  {
   "cell_type": "code",
   "execution_count": 49,
   "id": "09c5dece",
   "metadata": {},
   "outputs": [
    {
     "name": "stdout",
     "output_type": "stream",
     "text": [
      "ZZZZZ\n"
     ]
    }
   ],
   "source": [
    "while n != 0:\n",
    "    answer += str(tmp[n%b])\n",
    "    n = n//b\n",
    "    \n",
    "print(answer[::-1])    "
   ]
  },
  {
   "cell_type": "code",
   "execution_count": 50,
   "id": "7529081c",
   "metadata": {},
   "outputs": [
    {
     "ename": "ValueError",
     "evalue": "not enough values to unpack (expected 2, got 0)",
     "output_type": "error",
     "traceback": [
      "\u001b[0;31m---------------------------------------------------------------------------\u001b[0m",
      "\u001b[0;31mValueError\u001b[0m                                Traceback (most recent call last)",
      "Cell \u001b[0;32mIn [50], line 2\u001b[0m\n\u001b[1;32m      1\u001b[0m tmp \u001b[38;5;241m=\u001b[39m \u001b[38;5;124m\"\u001b[39m\u001b[38;5;124m0123456789ABCDEFGHIJKLMNOPQRSTUVWXYZ\u001b[39m\u001b[38;5;124m\"\u001b[39m\n\u001b[0;32m----> 2\u001b[0m n, b \u001b[38;5;241m=\u001b[39m \u001b[38;5;28mmap\u001b[39m(\u001b[38;5;28mint\u001b[39m, stdin\u001b[38;5;241m.\u001b[39mreadline()\u001b[38;5;241m.\u001b[39msplit())\n\u001b[1;32m      3\u001b[0m answer \u001b[38;5;241m=\u001b[39m \u001b[38;5;124m'\u001b[39m\u001b[38;5;124m'\u001b[39m\n\u001b[1;32m      4\u001b[0m \u001b[38;5;28;01mwhile\u001b[39;00m n \u001b[38;5;241m!=\u001b[39m\u001b[38;5;241m0\u001b[39m:\n",
      "\u001b[0;31mValueError\u001b[0m: not enough values to unpack (expected 2, got 0)"
     ]
    }
   ],
   "source": [
    "tmp = \"0123456789ABCDEFGHIJKLMNOPQRSTUVWXYZ\"\n",
    "n, b = map(int, stdin.readline().split())\n",
    "answer = ''\n",
    "while n !=0:\n",
    "    answer += str(tmp[n%b])\n",
    "    n = n//b\n",
    "\n",
    "print(answer[::-1])\n"
   ]
  },
  {
   "cell_type": "code",
   "execution_count": 51,
   "id": "a121e586",
   "metadata": {},
   "outputs": [
    {
     "name": "stdout",
     "output_type": "stream",
     "text": [
      "60466175 36\n",
      "ZZZZZ\n"
     ]
    }
   ],
   "source": [
    "tmp = \"0123456789ABCDEFGHIJKLMNOPQRSTUVWXYZ\"\n",
    "\n",
    "n, b = map(int, input().split())\n",
    "answer = ''\n",
    "\n",
    "while n != 0:\n",
    "    answer += str(tmp[n % b])\n",
    "    n = n//b\n",
    "\n",
    "print(answer[::-1])"
   ]
  },
  {
   "cell_type": "code",
   "execution_count": 60,
   "id": "496cae4a",
   "metadata": {},
   "outputs": [],
   "source": [
    "tmp = \"0123456789ABCDEFGHIJKLMNOPQRSTUVWXYZ\"\n",
    "\n"
   ]
  },
  {
   "cell_type": "code",
   "execution_count": 57,
   "id": "fbc2585d",
   "metadata": {},
   "outputs": [
    {
     "name": "stdout",
     "output_type": "stream",
     "text": [
      "ZZZZZ 36\n"
     ]
    }
   ],
   "source": [
    "n, b = map(str, input().split())\n",
    "\n",
    "b = int(b)\n",
    "res = 0\n"
   ]
  },
  {
   "cell_type": "code",
   "execution_count": 56,
   "id": "b64a96d9",
   "metadata": {},
   "outputs": [
    {
     "data": {
      "text/plain": [
       "int"
      ]
     },
     "execution_count": 56,
     "metadata": {},
     "output_type": "execute_result"
    }
   ],
   "source": [
    "type(b)"
   ]
  },
  {
   "cell_type": "code",
   "execution_count": 61,
   "id": "f57dea63",
   "metadata": {},
   "outputs": [
    {
     "ename": "ValueError",
     "evalue": "'Z' is not in list",
     "output_type": "error",
     "traceback": [
      "\u001b[0;31m---------------------------------------------------------------------------\u001b[0m",
      "\u001b[0;31mValueError\u001b[0m                                Traceback (most recent call last)",
      "Cell \u001b[0;32mIn [61], line 2\u001b[0m\n\u001b[1;32m      1\u001b[0m \u001b[38;5;28;01mfor\u001b[39;00m i \u001b[38;5;129;01min\u001b[39;00m \u001b[38;5;28mrange\u001b[39m(\u001b[38;5;28mlen\u001b[39m(n)):\n\u001b[0;32m----> 2\u001b[0m     res \u001b[38;5;241m+\u001b[39m\u001b[38;5;241m=\u001b[39m nums\u001b[38;5;241m.\u001b[39mindex(n[i]) \u001b[38;5;241m*\u001b[39m (B \u001b[38;5;241m*\u001b[39m\u001b[38;5;241m*\u001b[39m i)\n",
      "\u001b[0;31mValueError\u001b[0m: 'Z' is not in list"
     ]
    }
   ],
   "source": [
    "for i in range(len(n)):\n",
    "    res += nums.index(n[i]) * (B ** i)\n",
    "    \n",
    "    "
   ]
  },
  {
   "cell_type": "code",
   "execution_count": 64,
   "id": "36ecc67f",
   "metadata": {},
   "outputs": [
    {
     "data": {
      "text/plain": [
       "0"
      ]
     },
     "execution_count": 64,
     "metadata": {},
     "output_type": "execute_result"
    }
   ],
   "source": [
    "res"
   ]
  },
  {
   "cell_type": "code",
   "execution_count": 65,
   "id": "d99c34a6",
   "metadata": {},
   "outputs": [
    {
     "name": "stdout",
     "output_type": "stream",
     "text": [
      "ZZZZZ 36\n"
     ]
    },
    {
     "ename": "ValueError",
     "evalue": "'Z' is not in list",
     "output_type": "error",
     "traceback": [
      "\u001b[0;31m---------------------------------------------------------------------------\u001b[0m",
      "\u001b[0;31mValueError\u001b[0m                                Traceback (most recent call last)",
      "Cell \u001b[0;32mIn [65], line 11\u001b[0m\n\u001b[1;32m      8\u001b[0m res \u001b[38;5;241m=\u001b[39m \u001b[38;5;241m0\u001b[39m\n\u001b[1;32m     10\u001b[0m \u001b[38;5;28;01mfor\u001b[39;00m i \u001b[38;5;129;01min\u001b[39;00m \u001b[38;5;28mrange\u001b[39m(\u001b[38;5;28mlen\u001b[39m(n)):\n\u001b[0;32m---> 11\u001b[0m     res \u001b[38;5;241m+\u001b[39m\u001b[38;5;241m=\u001b[39m nums\u001b[38;5;241m.\u001b[39mindex(n[i]) \u001b[38;5;241m*\u001b[39m (b \u001b[38;5;241m*\u001b[39m\u001b[38;5;241m*\u001b[39m i)\n\u001b[1;32m     12\u001b[0m \u001b[38;5;28mprint\u001b[39m(res)\n",
      "\u001b[0;31mValueError\u001b[0m: 'Z' is not in list"
     ]
    }
   ],
   "source": [
    "n, b = input().split()\n",
    "\n",
    "n = n[::-1]\n",
    "b = int(b)\n",
    "\n",
    "table = \"0123456789ABCDEFGHIJKLMNOPQRSTUVWXYZ\"\n",
    "\n",
    "res = 0\n",
    "\n",
    "for i in range(len(n)):\n",
    "    res += nums.index(n[i]) * (b ** i)\n",
    "print(res)"
   ]
  },
  {
   "cell_type": "code",
   "execution_count": 66,
   "id": "5b7b6162",
   "metadata": {},
   "outputs": [],
   "source": [
    "# 10011  110111011011\n",
    "\n",
    "#         10011\n",
    "#         010001\n",
    "#          10011\n",
    "#         000010011\n",
    "#             10011\n",
    "#             00000011"
   ]
  },
  {
   "cell_type": "code",
   "execution_count": 68,
   "id": "a39e36b3",
   "metadata": {},
   "outputs": [
    {
     "ename": "ValueError",
     "evalue": "not enough values to unpack (expected 2, got 0)",
     "output_type": "error",
     "traceback": [
      "\u001b[0;31m---------------------------------------------------------------------------\u001b[0m",
      "\u001b[0;31mValueError\u001b[0m                                Traceback (most recent call last)",
      "Cell \u001b[0;32mIn [68], line 4\u001b[0m\n\u001b[1;32m      1\u001b[0m \u001b[38;5;66;03m#답\u001b[39;00m\n\u001b[1;32m      2\u001b[0m \u001b[38;5;28;01mimport\u001b[39;00m \u001b[38;5;21;01msys\u001b[39;00m\n\u001b[0;32m----> 4\u001b[0m before, base \u001b[38;5;241m=\u001b[39m sys\u001b[38;5;241m.\u001b[39mstdin\u001b[38;5;241m.\u001b[39mreadline()\u001b[38;5;241m.\u001b[39msplit()\n\u001b[1;32m      5\u001b[0m base \u001b[38;5;241m=\u001b[39m \u001b[38;5;28mint\u001b[39m(base)\n\u001b[1;32m      7\u001b[0m cnt, res \u001b[38;5;241m=\u001b[39m \u001b[38;5;241m0\u001b[39m, \u001b[38;5;241m0\u001b[39m\n",
      "\u001b[0;31mValueError\u001b[0m: not enough values to unpack (expected 2, got 0)"
     ]
    }
   ],
   "source": [
    "#답\n",
    "import sys\n",
    "\n",
    "before, base = sys.stdin.readline().split()\n",
    "base = int(base)\n",
    "\n",
    "cnt, res = 0, 0\n",
    "for c in before[::-1]:\n",
    "    target = int(c) if c.isdigit() else ord(c) -55\n",
    "    res += (target * (base ** cnt))\n",
    "    cnt += 1\n",
    "    \n",
    "sys.stdout.write(str(res))    "
   ]
  },
  {
   "cell_type": "code",
   "execution_count": 69,
   "id": "6f046715",
   "metadata": {
    "scrolled": true
   },
   "outputs": [
    {
     "name": "stdout",
     "output_type": "stream",
     "text": [
      "ZZZZZ 36\n",
      "60466175\n"
     ]
    }
   ],
   "source": [
    "before, base = input().split()\n",
    "base = int(base)\n",
    "\n",
    "cnt, res = 0, 0\n",
    "for c in before[::-1]:\n",
    "    target = int(c) if c.isdigit() else ord(c) -55\n",
    "    res += (target * (base ** cnt))\n",
    "    cnt += 1\n",
    "    \n",
    "print(str(res))"
   ]
  },
  {
   "cell_type": "code",
   "execution_count": 70,
   "id": "14ea1495",
   "metadata": {},
   "outputs": [
    {
     "name": "stdout",
     "output_type": "stream",
     "text": [
      "35\n"
     ]
    }
   ],
   "source": [
    "print(target)"
   ]
  },
  {
   "cell_type": "code",
   "execution_count": 71,
   "id": "d9c19617",
   "metadata": {},
   "outputs": [
    {
     "data": {
      "text/plain": [
       "5"
      ]
     },
     "execution_count": 71,
     "metadata": {},
     "output_type": "execute_result"
    }
   ],
   "source": [
    "cnt"
   ]
  },
  {
   "cell_type": "code",
   "execution_count": 72,
   "id": "71453ea5",
   "metadata": {},
   "outputs": [
    {
     "data": {
      "text/plain": [
       "60466175"
      ]
     },
     "execution_count": 72,
     "metadata": {},
     "output_type": "execute_result"
    }
   ],
   "source": [
    "res"
   ]
  },
  {
   "cell_type": "code",
   "execution_count": 84,
   "id": "a8b8733e",
   "metadata": {},
   "outputs": [
    {
     "name": "stdout",
     "output_type": "stream",
     "text": [
      "ZZZZZ\n"
     ]
    }
   ],
   "source": [
    "print(before[::1])"
   ]
  },
  {
   "cell_type": "code",
   "execution_count": 85,
   "id": "a3dae023",
   "metadata": {},
   "outputs": [],
   "source": [
    "a = []"
   ]
  },
  {
   "cell_type": "code",
   "execution_count": 86,
   "id": "4508af3c",
   "metadata": {},
   "outputs": [],
   "source": [
    "for i in range(4):\n",
    "    a.append(i)"
   ]
  },
  {
   "cell_type": "code",
   "execution_count": 87,
   "id": "aaf60fac",
   "metadata": {},
   "outputs": [
    {
     "data": {
      "text/plain": [
       "[0, 1, 2, 3]"
      ]
     },
     "execution_count": 87,
     "metadata": {},
     "output_type": "execute_result"
    }
   ],
   "source": [
    "a"
   ]
  },
  {
   "cell_type": "code",
   "execution_count": 93,
   "id": "fa7f4873",
   "metadata": {},
   "outputs": [
    {
     "data": {
      "text/plain": [
       "[1, 2, 3]"
      ]
     },
     "execution_count": 93,
     "metadata": {},
     "output_type": "execute_result"
    }
   ],
   "source": [
    "a[::]"
   ]
  },
  {
   "cell_type": "code",
   "execution_count": 94,
   "id": "db131a4c",
   "metadata": {},
   "outputs": [
    {
     "name": "stdout",
     "output_type": "stream",
     "text": [
      "<built-in method isdigit of str object at 0x100bbbc70>\n"
     ]
    }
   ],
   "source": [
    "print(c.isdigit)"
   ]
  },
  {
   "cell_type": "code",
   "execution_count": 95,
   "id": "a7644846",
   "metadata": {},
   "outputs": [],
   "source": [
    "#1373"
   ]
  },
  {
   "cell_type": "code",
   "execution_count": 98,
   "id": "3d4bc17b",
   "metadata": {},
   "outputs": [
    {
     "name": "stdout",
     "output_type": "stream",
     "text": [
      "11001100\n"
     ]
    }
   ],
   "source": [
    "a = list(map(int,input()))"
   ]
  },
  {
   "cell_type": "code",
   "execution_count": 100,
   "id": "7ddd0a44",
   "metadata": {},
   "outputs": [
    {
     "data": {
      "text/plain": [
       "[1, 1, 0, 0, 1, 1, 0, 0]"
      ]
     },
     "execution_count": 100,
     "metadata": {},
     "output_type": "execute_result"
    }
   ],
   "source": [
    "a"
   ]
  },
  {
   "cell_type": "code",
   "execution_count": 99,
   "id": "e923c30f",
   "metadata": {},
   "outputs": [
    {
     "data": {
      "text/plain": [
       "1"
      ]
     },
     "execution_count": 99,
     "metadata": {},
     "output_type": "execute_result"
    }
   ],
   "source": [
    "a[0]"
   ]
  },
  {
   "cell_type": "code",
   "execution_count": 101,
   "id": "3104ce47",
   "metadata": {},
   "outputs": [
    {
     "data": {
      "text/plain": [
       "8"
      ]
     },
     "execution_count": 101,
     "metadata": {},
     "output_type": "execute_result"
    }
   ],
   "source": [
    "len(a)"
   ]
  },
  {
   "cell_type": "code",
   "execution_count": 111,
   "id": "e2bce58c",
   "metadata": {},
   "outputs": [],
   "source": [
    "b = 0"
   ]
  },
  {
   "cell_type": "code",
   "execution_count": 117,
   "id": "2a24299b",
   "metadata": {},
   "outputs": [
    {
     "name": "stdout",
     "output_type": "stream",
     "text": [
      "0\n",
      "here:  256\n",
      "1\n",
      "here:  128\n",
      "4\n",
      "here:  16\n",
      "5\n",
      "here:  8\n"
     ]
    }
   ],
   "source": [
    "for i in range(len(a)):\n",
    "    if a[i] == 1:\n",
    "        print(i)\n",
    "        print(\"here: \", 2**(len(a)-i))\n",
    "        b += 2**(len(a)-i)\n",
    "        "
   ]
  },
  {
   "cell_type": "code",
   "execution_count": 103,
   "id": "6a4a9981",
   "metadata": {},
   "outputs": [
    {
     "data": {
      "text/plain": [
       "256"
      ]
     },
     "execution_count": 103,
     "metadata": {},
     "output_type": "execute_result"
    }
   ],
   "source": [
    "2**8"
   ]
  },
  {
   "cell_type": "code",
   "execution_count": 104,
   "id": "cf02fcaf",
   "metadata": {},
   "outputs": [
    {
     "data": {
      "text/plain": [
       "4"
      ]
     },
     "execution_count": 104,
     "metadata": {},
     "output_type": "execute_result"
    }
   ],
   "source": [
    "2**2"
   ]
  },
  {
   "cell_type": "code",
   "execution_count": 108,
   "id": "b6c1ea62",
   "metadata": {},
   "outputs": [
    {
     "data": {
      "text/plain": [
       "0"
      ]
     },
     "execution_count": 108,
     "metadata": {},
     "output_type": "execute_result"
    }
   ],
   "source": [
    "len(a)-"
   ]
  },
  {
   "cell_type": "code",
   "execution_count": 113,
   "id": "1bec2196",
   "metadata": {},
   "outputs": [
    {
     "data": {
      "text/plain": [
       "408"
      ]
     },
     "execution_count": 113,
     "metadata": {},
     "output_type": "execute_result"
    }
   ],
   "source": [
    "b"
   ]
  },
  {
   "cell_type": "code",
   "execution_count": 118,
   "id": "05e67b09",
   "metadata": {},
   "outputs": [
    {
     "name": "stdout",
     "output_type": "stream",
     "text": [
      "11001100\n",
      "314\n"
     ]
    }
   ],
   "source": [
    "#답 1\n",
    "if __name__ == '__main__':\n",
    "    n = input()[::-1]\n",
    "    \n",
    "    result = ''\n",
    "    for i in range(0, len(n), 3):\n",
    "        piece = n[i:i+3]\n",
    "        if len(piece) == 2:\n",
    "            piece += '0'\n",
    "        elif len(piece) == 1:\n",
    "            piece += '00'\n",
    "        \n",
    "        octal = int(piece[0]) * 1 + int(piece[1]) * 2 + int(piece[2]) * 4\n",
    "        result += str(octal)\n",
    "    print(result[::-1])"
   ]
  },
  {
   "cell_type": "code",
   "execution_count": 119,
   "id": "6634f31b",
   "metadata": {},
   "outputs": [
    {
     "name": "stdout",
     "output_type": "stream",
     "text": [
      "11001100\n",
      "314\n"
     ]
    }
   ],
   "source": [
    "#답2\n",
    "print(oct(int(input(), 2))[2:])"
   ]
  },
  {
   "cell_type": "code",
   "execution_count": 120,
   "id": "562387b5",
   "metadata": {},
   "outputs": [
    {
     "data": {
      "text/plain": [
       "<function oct(number, /)>"
      ]
     },
     "execution_count": 120,
     "metadata": {},
     "output_type": "execute_result"
    }
   ],
   "source": [
    "oct"
   ]
  },
  {
   "cell_type": "code",
   "execution_count": 126,
   "id": "83d183cc",
   "metadata": {},
   "outputs": [
    {
     "name": "stdout",
     "output_type": "stream",
     "text": [
      "314\n",
      "11001100\n"
     ]
    }
   ],
   "source": [
    "print(bin(int(input(), 8))[2:])"
   ]
  },
  {
   "cell_type": "code",
   "execution_count": 128,
   "id": "35153633",
   "metadata": {},
   "outputs": [
    {
     "name": "stdout",
     "output_type": "stream",
     "text": [
      "314\n"
     ]
    }
   ],
   "source": [
    "a = bin(int(input(), 8))"
   ]
  },
  {
   "cell_type": "code",
   "execution_count": 129,
   "id": "5fdc21cc",
   "metadata": {},
   "outputs": [
    {
     "data": {
      "text/plain": [
       "'0b11001100'"
      ]
     },
     "execution_count": 129,
     "metadata": {},
     "output_type": "execute_result"
    }
   ],
   "source": [
    "a"
   ]
  },
  {
   "cell_type": "code",
   "execution_count": 136,
   "id": "a70efba1",
   "metadata": {},
   "outputs": [
    {
     "data": {
      "text/plain": [
       "<function bin(number, /)>"
      ]
     },
     "execution_count": 136,
     "metadata": {},
     "output_type": "execute_result"
    }
   ],
   "source": [
    "bin"
   ]
  },
  {
   "cell_type": "code",
   "execution_count": 137,
   "id": "ca0a6b54",
   "metadata": {
    "scrolled": true
   },
   "outputs": [
    {
     "name": "stdout",
     "output_type": "stream",
     "text": [
      "-13\n"
     ]
    }
   ],
   "source": [
    "a = bin(int(input(), ))"
   ]
  },
  {
   "cell_type": "code",
   "execution_count": 138,
   "id": "6d2556df",
   "metadata": {},
   "outputs": [
    {
     "data": {
      "text/plain": [
       "'-0b1101'"
      ]
     },
     "execution_count": 138,
     "metadata": {},
     "output_type": "execute_result"
    }
   ],
   "source": [
    "a"
   ]
  },
  {
   "cell_type": "code",
   "execution_count": 142,
   "id": "21b1d07e",
   "metadata": {},
   "outputs": [
    {
     "name": "stdout",
     "output_type": "stream",
     "text": [
      "-13\n",
      "110111\n"
     ]
    }
   ],
   "source": [
    "#답\n",
    "n = int(input())\n",
    "if n ==0:\n",
    "    print(0)\n",
    "else:\n",
    "    result = \"\"\n",
    "    while n:\n",
    "        if n%(-2):\n",
    "            result = '1' + result\n",
    "            n = n// -2+1\n",
    "        else:\n",
    "            result = '0' + result\n",
    "            n //= -2\n",
    "    print(result)\n",
    "    \n",
    "    "
   ]
  },
  {
   "cell_type": "code",
   "execution_count": 141,
   "id": "4a6ff9fb",
   "metadata": {},
   "outputs": [
    {
     "data": {
      "text/plain": [
       "3"
      ]
     },
     "execution_count": 141,
     "metadata": {},
     "output_type": "execute_result"
    }
   ],
   "source": [
    "3"
   ]
  },
  {
   "cell_type": "code",
   "execution_count": 143,
   "id": "041596fd",
   "metadata": {},
   "outputs": [],
   "source": [
    "#11576\n",
    "\n"
   ]
  },
  {
   "cell_type": "code",
   "execution_count": 144,
   "id": "70f22cb6",
   "metadata": {},
   "outputs": [
    {
     "name": "stdout",
     "output_type": "stream",
     "text": [
      "17 8\n"
     ]
    }
   ],
   "source": [
    "a, b = map(int,input().split())"
   ]
  },
  {
   "cell_type": "code",
   "execution_count": 145,
   "id": "84a72278",
   "metadata": {},
   "outputs": [
    {
     "name": "stdout",
     "output_type": "stream",
     "text": [
      "2\n"
     ]
    }
   ],
   "source": [
    "m = int(input())\n"
   ]
  },
  {
   "cell_type": "code",
   "execution_count": 146,
   "id": "bc1830da",
   "metadata": {},
   "outputs": [
    {
     "name": "stdout",
     "output_type": "stream",
     "text": [
      "2 16\n"
     ]
    }
   ],
   "source": [
    "nums = list(map(int, input().split()))[::-1]\n",
    "\n",
    "\n",
    "\n"
   ]
  },
  {
   "cell_type": "code",
   "execution_count": 149,
   "id": "a6da3986",
   "metadata": {},
   "outputs": [],
   "source": [
    "numA = 0"
   ]
  },
  {
   "cell_type": "code",
   "execution_count": 151,
   "id": "39edb35e",
   "metadata": {},
   "outputs": [
    {
     "name": "stdout",
     "output_type": "stream",
     "text": [
      "6 2\n"
     ]
    }
   ],
   "source": [
    "for i in range(len(nums)):\n",
    "    numA += nums[i] * (a ** i)\n",
    "    \n",
    "result = []\n",
    "while numA != 0:\n",
    "    result.append(numA % b)\n",
    "    numA //= b\n",
    "    \n",
    "print(\" \".join(map(str, result[::-1])))"
   ]
  },
  {
   "cell_type": "code",
   "execution_count": null,
   "id": "6f74ec42",
   "metadata": {},
   "outputs": [],
   "source": []
  }
 ],
 "metadata": {
  "kernelspec": {
   "display_name": "Python 3 (ipykernel)",
   "language": "python",
   "name": "python3"
  },
  "language_info": {
   "codemirror_mode": {
    "name": "ipython",
    "version": 3
   },
   "file_extension": ".py",
   "mimetype": "text/x-python",
   "name": "python",
   "nbconvert_exporter": "python",
   "pygments_lexer": "ipython3",
   "version": "3.9.7"
  }
 },
 "nbformat": 4,
 "nbformat_minor": 5
}
