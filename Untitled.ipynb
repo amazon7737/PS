{
 "cells": [
  {
   "cell_type": "code",
   "execution_count": null,
   "id": "1e41435d",
   "metadata": {},
   "outputs": [],
   "source": [
    "# 10825"
   ]
  },
  {
   "cell_type": "code",
   "execution_count": 1,
   "id": "bf9335d6",
   "metadata": {
    "scrolled": true
   },
   "outputs": [
    {
     "name": "stdout",
     "output_type": "stream",
     "text": [
      "12\n"
     ]
    }
   ],
   "source": [
    "n = int(input())"
   ]
  },
  {
   "cell_type": "code",
   "execution_count": 25,
   "id": "ce4d149d",
   "metadata": {},
   "outputs": [],
   "source": [
    "arr = [0]*n"
   ]
  },
  {
   "cell_type": "code",
   "execution_count": 49,
   "id": "ec01a86c",
   "metadata": {},
   "outputs": [
    {
     "name": "stdout",
     "output_type": "stream",
     "text": [
      "Junkyu 50 60 100\n",
      "Sangkeun 80 60 50\n",
      "Sunyoung 80 70 100\n",
      "Soong 50 60 90\n",
      "Haebin 50 60 100\n",
      "Kangsoo 60 80 100\n",
      "Donghyuk 80 60 100\n",
      "Sei 70 70 70\n",
      "Wonseob 70 70 90\n",
      "Sanghyun 70 70 80\n",
      "nsj 80 80 80\n",
      "Taewhan 50 60 90\n"
     ]
    }
   ],
   "source": [
    "for i in range(n):\n",
    "    arr[i] = list(map(str, input().split()))"
   ]
  },
  {
   "cell_type": "code",
   "execution_count": 50,
   "id": "8b68a429",
   "metadata": {},
   "outputs": [],
   "source": [
    "for i in range(0, n):\n",
    "    for j in range(1, 4):\n",
    "        arr[i][j] = int(arr[i][j])"
   ]
  },
  {
   "cell_type": "code",
   "execution_count": null,
   "id": "a8113ffa",
   "metadata": {
    "scrolled": true
   },
   "outputs": [],
   "source": []
  },
  {
   "cell_type": "code",
   "execution_count": 62,
   "id": "ff8ee1ec",
   "metadata": {},
   "outputs": [],
   "source": [
    "arr = sorted(arr, key = lambda x: (-x[1], x[2], -x[3], x[0]))"
   ]
  },
  {
   "cell_type": "code",
   "execution_count": 56,
   "id": "f232573c",
   "metadata": {},
   "outputs": [
    {
     "data": {
      "text/plain": [
       "'Haebin'"
      ]
     },
     "execution_count": 56,
     "metadata": {},
     "output_type": "execute_result"
    }
   ],
   "source": [
    "arr[4][0]"
   ]
  },
  {
   "cell_type": "code",
   "execution_count": 59,
   "id": "a1b0de9e",
   "metadata": {},
   "outputs": [
    {
     "data": {
      "text/plain": [
       "50"
      ]
     },
     "execution_count": 59,
     "metadata": {},
     "output_type": "execute_result"
    }
   ],
   "source": [
    "arr[3][1]"
   ]
  },
  {
   "cell_type": "code",
   "execution_count": 67,
   "id": "d18fa5ae",
   "metadata": {},
   "outputs": [
    {
     "name": "stdout",
     "output_type": "stream",
     "text": [
      "Donghyuk\n",
      "Sangkeun\n",
      "Sunyoung\n",
      "nsj\n",
      "Wonseob\n",
      "Sanghyun\n",
      "Sei\n",
      "Kangsoo\n",
      "Haebin\n",
      "Junkyu\n",
      "Soong\n",
      "Taewhan\n"
     ]
    }
   ],
   "source": [
    "for i in range(n):\n",
    "    print(arr[i][0])"
   ]
  },
  {
   "cell_type": "code",
   "execution_count": 68,
   "id": "1952d5ca",
   "metadata": {},
   "outputs": [],
   "source": [
    "# 10989\n",
    "\n"
   ]
  },
  {
   "cell_type": "code",
   "execution_count": 2,
   "id": "aded3dc7",
   "metadata": {},
   "outputs": [],
   "source": []
  },
  {
   "cell_type": "code",
   "execution_count": 12,
   "id": "297e6637",
   "metadata": {},
   "outputs": [],
   "source": [
    "import sys"
   ]
  },
  {
   "cell_type": "code",
   "execution_count": 11,
   "id": "af373b5c",
   "metadata": {},
   "outputs": [
    {
     "name": "stdout",
     "output_type": "stream",
     "text": [
      "12\n"
     ]
    }
   ],
   "source": [
    "n = int(input())"
   ]
  },
  {
   "cell_type": "code",
   "execution_count": 14,
   "id": "2e3dd872",
   "metadata": {},
   "outputs": [],
   "source": [
    "arr = []"
   ]
  },
  {
   "cell_type": "code",
   "execution_count": 15,
   "id": "1a2fb755",
   "metadata": {},
   "outputs": [],
   "source": [
    "for i in range(n):\n",
    "    arr.append(list(map(int, sys.stdin.readline())))"
   ]
  },
  {
   "cell_type": "code",
   "execution_count": 93,
   "id": "bbd52419",
   "metadata": {},
   "outputs": [],
   "source": [
    "arr.sort()"
   ]
  },
  {
   "cell_type": "code",
   "execution_count": 92,
   "id": "cb85d632",
   "metadata": {},
   "outputs": [
    {
     "data": {
      "text/plain": [
       "[[5], [2], [3], [1], [4], [2], [3], [5], [1], [7]]"
      ]
     },
     "execution_count": 92,
     "metadata": {},
     "output_type": "execute_result"
    }
   ],
   "source": [
    "arr"
   ]
  },
  {
   "cell_type": "code",
   "execution_count": 94,
   "id": "8883d4c9",
   "metadata": {},
   "outputs": [
    {
     "name": "stdout",
     "output_type": "stream",
     "text": [
      "[1]\n",
      "[1]\n",
      "[2]\n",
      "[2]\n",
      "[3]\n",
      "[3]\n",
      "[4]\n",
      "[5]\n",
      "[5]\n",
      "[7]\n"
     ]
    }
   ],
   "source": [
    "for i in range(n):\n",
    "    print(arr[i])"
   ]
  },
  {
   "cell_type": "code",
   "execution_count": 16,
   "id": "8a1616b2",
   "metadata": {},
   "outputs": [],
   "source": [
    "import sys"
   ]
  },
  {
   "cell_type": "code",
   "execution_count": 17,
   "id": "967591d9",
   "metadata": {},
   "outputs": [
    {
     "ename": "ValueError",
     "evalue": "invalid literal for int() with base 10: ''",
     "output_type": "error",
     "traceback": [
      "\u001b[0;31m---------------------------------------------------------------------------\u001b[0m",
      "\u001b[0;31mValueError\u001b[0m                                Traceback (most recent call last)",
      "Cell \u001b[0;32mIn [17], line 1\u001b[0m\n\u001b[0;32m----> 1\u001b[0m n \u001b[38;5;241m=\u001b[39m \u001b[38;5;28mint\u001b[39m(sys\u001b[38;5;241m.\u001b[39mstdin\u001b[38;5;241m.\u001b[39mreadline())\n",
      "\u001b[0;31mValueError\u001b[0m: invalid literal for int() with base 10: ''"
     ]
    }
   ],
   "source": [
    "n = int(sys.stdin.readline())"
   ]
  },
  {
   "cell_type": "code",
   "execution_count": 1,
   "id": "0d13976a",
   "metadata": {},
   "outputs": [],
   "source": [
    "#11652\n",
    "\n"
   ]
  },
  {
   "cell_type": "code",
   "execution_count": 43,
   "id": "a63bbdd9",
   "metadata": {},
   "outputs": [
    {
     "name": "stdout",
     "output_type": "stream",
     "text": [
      "6\n"
     ]
    }
   ],
   "source": [
    "n = int(input())"
   ]
  },
  {
   "cell_type": "code",
   "execution_count": 44,
   "id": "fa67759f",
   "metadata": {},
   "outputs": [],
   "source": [
    "arr = [0]*(n+1)"
   ]
  },
  {
   "cell_type": "code",
   "execution_count": 32,
   "id": "c6484484",
   "metadata": {},
   "outputs": [
    {
     "data": {
      "text/plain": [
       "[0, 1, 2, 1, 2, 1]"
      ]
     },
     "execution_count": 32,
     "metadata": {},
     "output_type": "execute_result"
    }
   ],
   "source": [
    "arr"
   ]
  },
  {
   "cell_type": "code",
   "execution_count": 45,
   "id": "e48b0416",
   "metadata": {},
   "outputs": [],
   "source": [
    "arr2 = [0] * (n+1)"
   ]
  },
  {
   "cell_type": "code",
   "execution_count": 46,
   "id": "3f52adef",
   "metadata": {
    "scrolled": true
   },
   "outputs": [
    {
     "name": "stdout",
     "output_type": "stream",
     "text": [
      "1\n",
      "2\n",
      "1\n",
      "2\n",
      "1\n",
      "2\n"
     ]
    }
   ],
   "source": [
    "for i in range(1, n+1):\n",
    "    arr[i] = int(input())"
   ]
  },
  {
   "cell_type": "code",
   "execution_count": 47,
   "id": "9732e7c4",
   "metadata": {},
   "outputs": [],
   "source": [
    "for i in range(1, n+1):\n",
    "    if arr[i] == arr.index(arr[i]):\n",
    "        arr2[arr[i]] += 1"
   ]
  },
  {
   "cell_type": "code",
   "execution_count": 48,
   "id": "877e9bcf",
   "metadata": {},
   "outputs": [
    {
     "data": {
      "text/plain": [
       "[0, 3, 3, 0, 0, 0, 0]"
      ]
     },
     "execution_count": 48,
     "metadata": {},
     "output_type": "execute_result"
    }
   ],
   "source": [
    "arr2"
   ]
  },
  {
   "cell_type": "code",
   "execution_count": 30,
   "id": "7aba864e",
   "metadata": {},
   "outputs": [
    {
     "data": {
      "text/plain": [
       "1"
      ]
     },
     "execution_count": 30,
     "metadata": {},
     "output_type": "execute_result"
    }
   ],
   "source": [
    "arr2[arr[1]] +=1"
   ]
  },
  {
   "cell_type": "code",
   "execution_count": 50,
   "id": "611240d4",
   "metadata": {},
   "outputs": [
    {
     "name": "stdout",
     "output_type": "stream",
     "text": [
      "1\n"
     ]
    }
   ],
   "source": [
    "print(arr[max(arr2)])"
   ]
  },
  {
   "cell_type": "code",
   "execution_count": 60,
   "id": "4013d089",
   "metadata": {},
   "outputs": [
    {
     "name": "stdout",
     "output_type": "stream",
     "text": [
      "5\n"
     ]
    }
   ],
   "source": [
    "N = int(input())"
   ]
  },
  {
   "cell_type": "code",
   "execution_count": 68,
   "id": "fb6e4b89",
   "metadata": {},
   "outputs": [],
   "source": [
    "dict_number = {}\n"
   ]
  },
  {
   "cell_type": "code",
   "execution_count": 79,
   "id": "e117300c",
   "metadata": {
    "scrolled": true
   },
   "outputs": [
    {
     "name": "stdout",
     "output_type": "stream",
     "text": [
      "1\n",
      "2\n",
      "1\n",
      "2\n",
      "1\n"
     ]
    },
    {
     "ename": "IndexError",
     "evalue": "list index out of range",
     "output_type": "error",
     "traceback": [
      "\u001b[0;31m---------------------------------------------------------------------------\u001b[0m",
      "\u001b[0;31mIndexError\u001b[0m                                Traceback (most recent call last)",
      "Cell \u001b[0;32mIn [79], line 8\u001b[0m\n\u001b[1;32m      5\u001b[0m     \u001b[38;5;28;01melse\u001b[39;00m:\n\u001b[1;32m      6\u001b[0m         dict_number[card] \u001b[38;5;241m=\u001b[39m \u001b[38;5;241m1\u001b[39m\n\u001b[0;32m----> 8\u001b[0m \u001b[38;5;28mprint\u001b[39m(sorted_dict \u001b[38;5;241m=\u001b[39m \u001b[38;5;28msorted\u001b[39m(value\u001b[38;5;241m.\u001b[39mitems(), key \u001b[38;5;241m=\u001b[39m \u001b[38;5;28;01mlambda\u001b[39;00m x: (\u001b[38;5;241m-\u001b[39mx[\u001b[38;5;241m1\u001b[39m], x[\u001b[38;5;241m0\u001b[39m]))[\u001b[38;5;241m0\u001b[39m][\u001b[38;5;241m0\u001b[39m])\n",
      "\u001b[0;31mIndexError\u001b[0m: list index out of range"
     ]
    }
   ],
   "source": [
    "for i in range(N):\n",
    "    card = int(input())\n",
    "    if card in dict_number:\n",
    "        dict_number[card] += 1\n",
    "    else:\n",
    "        dict_number[card] = 1\n",
    "        \n",
    "print(sorted_dict = sorted(value.items(), key = lambda x: (-x[1], x[0]))[0][0])\n"
   ]
  },
  {
   "cell_type": "code",
   "execution_count": 75,
   "id": "b3b9b948",
   "metadata": {},
   "outputs": [
    {
     "data": {
      "text/plain": [
       "1"
      ]
     },
     "execution_count": 75,
     "metadata": {},
     "output_type": "execute_result"
    }
   ],
   "source": [
    "sorted_dict[0][0]"
   ]
  },
  {
   "cell_type": "code",
   "execution_count": 72,
   "id": "da513f3d",
   "metadata": {},
   "outputs": [
    {
     "data": {
      "text/plain": [
       "{0: 1, 1: 1}"
      ]
     },
     "execution_count": 72,
     "metadata": {},
     "output_type": "execute_result"
    }
   ],
   "source": [
    "dict_number"
   ]
  },
  {
   "cell_type": "code",
   "execution_count": 71,
   "id": "9b305f89",
   "metadata": {},
   "outputs": [],
   "source": [
    "dict_number[1] = 1"
   ]
  },
  {
   "cell_type": "code",
   "execution_count": null,
   "id": "d16dff82",
   "metadata": {},
   "outputs": [],
   "source": []
  },
  {
   "cell_type": "code",
   "execution_count": 80,
   "id": "0b2e2530",
   "metadata": {},
   "outputs": [],
   "source": [
    "#11004\n",
    "\n"
   ]
  },
  {
   "cell_type": "code",
   "execution_count": 1,
   "id": "3e0d9e32",
   "metadata": {},
   "outputs": [
    {
     "name": "stdout",
     "output_type": "stream",
     "text": [
      "5 2\n"
     ]
    }
   ],
   "source": [
    "n, k = list(map(int, input().split()))"
   ]
  },
  {
   "cell_type": "code",
   "execution_count": 40,
   "id": "1de48f71",
   "metadata": {},
   "outputs": [
    {
     "name": "stdout",
     "output_type": "stream",
     "text": [
      "1 2 3 4 5\n"
     ]
    }
   ],
   "source": [
    "arr = list(map(int,input().split()))"
   ]
  },
  {
   "cell_type": "code",
   "execution_count": 41,
   "id": "ac7711be",
   "metadata": {},
   "outputs": [],
   "source": [
    "arr.sort()"
   ]
  },
  {
   "cell_type": "code",
   "execution_count": 43,
   "id": "722645c6",
   "metadata": {
    "scrolled": true
   },
   "outputs": [
    {
     "name": "stdout",
     "output_type": "stream",
     "text": [
      "2\n"
     ]
    }
   ],
   "source": [
    "print(arr[k-1])"
   ]
  },
  {
   "cell_type": "code",
   "execution_count": 44,
   "id": "db826ea8",
   "metadata": {},
   "outputs": [],
   "source": [
    "# 10828"
   ]
  },
  {
   "cell_type": "code",
   "execution_count": 45,
   "id": "2c6bd541",
   "metadata": {},
   "outputs": [
    {
     "name": "stdout",
     "output_type": "stream",
     "text": [
      "14\n"
     ]
    }
   ],
   "source": [
    "n = int(input())"
   ]
  },
  {
   "cell_type": "code",
   "execution_count": 48,
   "id": "31dac9f2",
   "metadata": {},
   "outputs": [],
   "source": [
    "say = \"\"\n"
   ]
  },
  {
   "cell_type": "code",
   "execution_count": 60,
   "id": "c8236ed8",
   "metadata": {},
   "outputs": [],
   "source": [
    "say = \"push 2\""
   ]
  },
  {
   "cell_type": "code",
   "execution_count": 49,
   "id": "70e44d94",
   "metadata": {},
   "outputs": [],
   "source": [
    "arr = []"
   ]
  },
  {
   "cell_type": "code",
   "execution_count": 50,
   "id": "1ba64ef6",
   "metadata": {},
   "outputs": [],
   "source": [
    "arr.append(1)"
   ]
  },
  {
   "cell_type": "code",
   "execution_count": 51,
   "id": "7124811d",
   "metadata": {},
   "outputs": [
    {
     "data": {
      "text/plain": [
       "[1]"
      ]
     },
     "execution_count": 51,
     "metadata": {},
     "output_type": "execute_result"
    }
   ],
   "source": [
    "arr"
   ]
  },
  {
   "cell_type": "code",
   "execution_count": 56,
   "id": "7e8a5a2f",
   "metadata": {},
   "outputs": [
    {
     "data": {
      "text/plain": [
       "1"
      ]
     },
     "execution_count": 56,
     "metadata": {},
     "output_type": "execute_result"
    }
   ],
   "source": [
    "arr.pop()\n"
   ]
  },
  {
   "cell_type": "code",
   "execution_count": 57,
   "id": "f68f3856",
   "metadata": {},
   "outputs": [
    {
     "data": {
      "text/plain": [
       "[]"
      ]
     },
     "execution_count": 57,
     "metadata": {},
     "output_type": "execute_result"
    }
   ],
   "source": [
    "arr"
   ]
  },
  {
   "cell_type": "code",
   "execution_count": 61,
   "id": "ed68ff60",
   "metadata": {},
   "outputs": [],
   "source": [
    "if \"push\" in say :\n",
    "    arr.append(lambda x: x[5])\n",
    "    \n",
    "    "
   ]
  },
  {
   "cell_type": "code",
   "execution_count": 64,
   "id": "998ac32f",
   "metadata": {},
   "outputs": [],
   "source": [
    "import sys\n",
    "\n"
   ]
  },
  {
   "cell_type": "code",
   "execution_count": 65,
   "id": "2e435053",
   "metadata": {},
   "outputs": [
    {
     "ename": "ValueError",
     "evalue": "invalid literal for int() with base 10: ''",
     "output_type": "error",
     "traceback": [
      "\u001b[0;31m---------------------------------------------------------------------------\u001b[0m",
      "\u001b[0;31mValueError\u001b[0m                                Traceback (most recent call last)",
      "Cell \u001b[0;32mIn [65], line 1\u001b[0m\n\u001b[0;32m----> 1\u001b[0m N \u001b[38;5;241m=\u001b[39m \u001b[38;5;28mint\u001b[39m(sys\u001b[38;5;241m.\u001b[39mstdin\u001b[38;5;241m.\u001b[39mreadline())\n",
      "\u001b[0;31mValueError\u001b[0m: invalid literal for int() with base 10: ''"
     ]
    }
   ],
   "source": [
    "N = int(sys.stdin.readline())"
   ]
  },
  {
   "cell_type": "code",
   "execution_count": null,
   "id": "90939935",
   "metadata": {},
   "outputs": [],
   "source": []
  }
 ],
 "metadata": {
  "kernelspec": {
   "display_name": "Python 3 (ipykernel)",
   "language": "python",
   "name": "python3"
  },
  "language_info": {
   "codemirror_mode": {
    "name": "ipython",
    "version": 3
   },
   "file_extension": ".py",
   "mimetype": "text/x-python",
   "name": "python",
   "nbconvert_exporter": "python",
   "pygments_lexer": "ipython3",
   "version": "3.9.7"
  }
 },
 "nbformat": 4,
 "nbformat_minor": 5
}
