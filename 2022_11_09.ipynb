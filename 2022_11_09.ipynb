{
 "cells": [
  {
   "cell_type": "code",
   "execution_count": 1,
   "id": "cd4fc501",
   "metadata": {},
   "outputs": [],
   "source": [
    "#2667"
   ]
  },
  {
   "cell_type": "code",
   "execution_count": 2,
   "id": "0572a5ff",
   "metadata": {},
   "outputs": [],
   "source": [
    "#답\n"
   ]
  },
  {
   "cell_type": "code",
   "execution_count": null,
   "id": "3258e415",
   "metadata": {},
   "outputs": [
    {
     "name": "stdout",
     "output_type": "stream",
     "text": [
      "7\n",
      "0110100\n",
      "0110101\n",
      "1110101\n",
      "0000111\n",
      "0100000\n",
      "0111110\n",
      "0111000\n"
     ]
    }
   ],
   "source": [
    "from collections import deque\n",
    "n = int(input())\n",
    "apt = []\n",
    "for i in range(n):\n",
    "    apt.append(list(map(int, input())))\n",
    "visit = [[0] * n for i in range(n)]\n",
    "dx = [-1, 0, 1, 0]\n",
    "dy = dx[::-1]\n",
    "def bfs(x, y, idx):\n",
    "    q = deque([[x, y]])\n",
    "    visit[x][y] = 1\n",
    "    while q:\n",
    "        node = q.popleft()\n",
    "        for i in range(4):\n",
    "            nx = node[0] + dx[i]\n",
    "            ny = node[1] + dy[i]\n",
    "            if 0 <= nx < n and 0 <= ny < n:\n",
    "                if apt[nx][ny] == 1 and visit[nx][ny] == 0:\n",
    "                    q.append([nx, ny])\n",
    "                    visit[nx][ny]\n",
    "                    apt_list[idx] += 1\n",
    "\n",
    "apt_list = {}                    \n",
    "idx = 0\n",
    "for i in range(n):\n",
    "    for j in range(n):\n",
    "        if apt[i][j] != 0 and visit[i][j] == 0:\n",
    "            apt_list[idx] = 1\n",
    "            bfs(i, j, idx)\n",
    "            idx+=1\n",
    "apt_list = sorted(apt_list.values())\n",
    "print(len(apt_list))\n",
    "for i in apt_list:\n",
    "    print(i)"
   ]
  },
  {
   "cell_type": "code",
   "execution_count": 1,
   "id": "e1f45916",
   "metadata": {},
   "outputs": [],
   "source": [
    "#4963"
   ]
  },
  {
   "cell_type": "code",
   "execution_count": 2,
   "id": "c7b1f0a7",
   "metadata": {},
   "outputs": [],
   "source": [
    "# bfs"
   ]
  },
  {
   "cell_type": "code",
   "execution_count": 4,
   "id": "4fd39ef6",
   "metadata": {},
   "outputs": [],
   "source": [
    "import sys\n",
    "read = sys.stdin.readline\n",
    "sys.setrecursionlimit(10000)\n",
    "\n",
    "def dfs(x,y):\n",
    "    dx = [1, 1, -1, -1, 1, -1, 0, 0]\n",
    "    dy = [0, 1, 0, 1, -1, -1, 1, -1]\n",
    "    \n",
    "    field = []\n",
    "    count = 0\n",
    "    for _ in range(h):\n",
    "        field.append(list(map(int, read().split())))\n",
    "    for i in range(h):\n",
    "        for j in range(w):\n",
    "            if field[i][j] == 1:\n",
    "                dfs(i, j)\n",
    "                count += 1\n",
    "    print(count)            "
   ]
  },
  {
   "cell_type": "code",
   "execution_count": 5,
   "id": "89f60fef",
   "metadata": {},
   "outputs": [],
   "source": [
    "# dfs"
   ]
  },
  {
   "cell_type": "code",
   "execution_count": 7,
   "id": "84e06c33",
   "metadata": {},
   "outputs": [
    {
     "ename": "ValueError",
     "evalue": "not enough values to unpack (expected 2, got 0)",
     "output_type": "error",
     "traceback": [
      "\u001b[0;31m---------------------------------------------------------------------------\u001b[0m",
      "\u001b[0;31mValueError\u001b[0m                                Traceback (most recent call last)",
      "Cell \u001b[0;32mIn [7], line 21\u001b[0m\n\u001b[1;32m     18\u001b[0m                 q\u001b[38;5;241m.\u001b[39mappend([nx, ny])\n\u001b[1;32m     20\u001b[0m \u001b[38;5;28;01mwhile\u001b[39;00m \u001b[38;5;28;01mTrue\u001b[39;00m:\n\u001b[0;32m---> 21\u001b[0m     w, h \u001b[38;5;241m=\u001b[39m \u001b[38;5;28mmap\u001b[39m(\u001b[38;5;28mint\u001b[39m, read()\u001b[38;5;241m.\u001b[39msplit())\n\u001b[1;32m     22\u001b[0m     \u001b[38;5;28;01mif\u001b[39;00m w \u001b[38;5;241m==\u001b[39m \u001b[38;5;241m0\u001b[39m \u001b[38;5;129;01mand\u001b[39;00m h \u001b[38;5;241m==\u001b[39m \u001b[38;5;241m0\u001b[39m:\n\u001b[1;32m     23\u001b[0m         \u001b[38;5;28;01mbreak\u001b[39;00m\n",
      "\u001b[0;31mValueError\u001b[0m: not enough values to unpack (expected 2, got 0)"
     ]
    }
   ],
   "source": [
    "from collections import deque\n",
    "import sys\n",
    "read = sys.stdin.readline\n",
    "\n",
    "def bfs(x, y):\n",
    "    dx = [1, -1, 0, 0, 1, -1, 1, -1]\n",
    "    dy = [0, 0, -1, 1, -1, 1, 1, -1]\n",
    "    field[x][y] = 0\n",
    "    q = deque()\n",
    "    q.append([x, y])\n",
    "    while q:\n",
    "        a, b = q.popleft()\n",
    "        for i in range(8):\n",
    "            nx = a + dx[i]\n",
    "            ny = b + dy[i]\n",
    "            if 0 <= nx < h and 0 <= ny < w and field[nx][ny] == 1:\n",
    "                field[nx][ny] = 0\n",
    "                q.append([nx, ny])\n",
    "\n",
    "while True:\n",
    "    w, h = map(int, read().split())\n",
    "    if w == 0 and h == 0:\n",
    "        break\n",
    "    field = []\n",
    "    count = 0\n",
    "    for _ in range(h):\n",
    "        field.append(list(map(int, read().split())))\n",
    "    for i in range(h):\n",
    "        for j in range(w):\n",
    "            if field[i][j] == 1:\n",
    "                bfs(i, j)\n",
    "                count += 1\n",
    "    print(count)\n",
    "    "
   ]
  },
  {
   "cell_type": "code",
   "execution_count": null,
   "id": "3fb60763",
   "metadata": {},
   "outputs": [],
   "source": []
  }
 ],
 "metadata": {
  "kernelspec": {
   "display_name": "Python 3 (ipykernel)",
   "language": "python",
   "name": "python3"
  },
  "language_info": {
   "codemirror_mode": {
    "name": "ipython",
    "version": 3
   },
   "file_extension": ".py",
   "mimetype": "text/x-python",
   "name": "python",
   "nbconvert_exporter": "python",
   "pygments_lexer": "ipython3",
   "version": "3.9.7"
  }
 },
 "nbformat": 4,
 "nbformat_minor": 5
}
