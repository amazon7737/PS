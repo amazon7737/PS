{
 "cells": [
  {
   "cell_type": "code",
   "execution_count": 1,
   "id": "f7bf0182",
   "metadata": {},
   "outputs": [],
   "source": [
    "# 부분 합"
   ]
  },
  {
   "cell_type": "code",
   "execution_count": null,
   "id": "8313567e",
   "metadata": {},
   "outputs": [],
   "source": [
    "def partialSum(a):\n",
    "    "
   ]
  },
  {
   "cell_type": "code",
   "execution_count": 2,
   "id": "1d076029",
   "metadata": {},
   "outputs": [],
   "source": [
    "#1806"
   ]
  },
  {
   "cell_type": "code",
   "execution_count": 10,
   "id": "9ff8221b",
   "metadata": {
    "scrolled": true
   },
   "outputs": [
    {
     "name": "stdout",
     "output_type": "stream",
     "text": [
      "10 15\n"
     ]
    }
   ],
   "source": [
    "N, S = map(int, input().split())"
   ]
  },
  {
   "cell_type": "code",
   "execution_count": 11,
   "id": "46a2af66",
   "metadata": {},
   "outputs": [],
   "source": [
    "arr = []"
   ]
  },
  {
   "cell_type": "code",
   "execution_count": 12,
   "id": "e645cd1d",
   "metadata": {},
   "outputs": [
    {
     "name": "stdout",
     "output_type": "stream",
     "text": [
      "5 1 3 5 10 7 4 9 2 8\n"
     ]
    }
   ],
   "source": [
    "arr = list(map(int, input().split()))"
   ]
  },
  {
   "cell_type": "code",
   "execution_count": 8,
   "id": "bdbacd2e",
   "metadata": {},
   "outputs": [
    {
     "data": {
      "text/plain": [
       "[5, 1, 3, 5, 10, 7, 4, 9, 2, 8]"
      ]
     },
     "execution_count": 8,
     "metadata": {},
     "output_type": "execute_result"
    }
   ],
   "source": [
    "arr"
   ]
  },
  {
   "cell_type": "code",
   "execution_count": 13,
   "id": "7146054f",
   "metadata": {},
   "outputs": [],
   "source": [
    "i, j = 0, 0\n",
    "s = arr[0]\n",
    "ans = 100001\n"
   ]
  },
  {
   "cell_type": "code",
   "execution_count": 14,
   "id": "a87a2bf3",
   "metadata": {},
   "outputs": [
    {
     "name": "stdout",
     "output_type": "stream",
     "text": [
      "2\n"
     ]
    }
   ],
   "source": [
    "while True:\n",
    "    if s >= S:\n",
    "        s -= arr[i]\n",
    "        ans = min(ans, j - i + 1)\n",
    "        i += 1\n",
    "    else:\n",
    "        j += 1\n",
    "        if j == N:\n",
    "            break\n",
    "        s += arr[j]\n",
    "    \n",
    "print(0) if ans == 100001 else print(ans)"
   ]
  },
  {
   "cell_type": "code",
   "execution_count": null,
   "id": "1c4b5fa7",
   "metadata": {},
   "outputs": [],
   "source": []
  }
 ],
 "metadata": {
  "kernelspec": {
   "display_name": "Python 3 (ipykernel)",
   "language": "python",
   "name": "python3"
  },
  "language_info": {
   "codemirror_mode": {
    "name": "ipython",
    "version": 3
   },
   "file_extension": ".py",
   "mimetype": "text/x-python",
   "name": "python",
   "nbconvert_exporter": "python",
   "pygments_lexer": "ipython3",
   "version": "3.9.7"
  }
 },
 "nbformat": 4,
 "nbformat_minor": 5
}
